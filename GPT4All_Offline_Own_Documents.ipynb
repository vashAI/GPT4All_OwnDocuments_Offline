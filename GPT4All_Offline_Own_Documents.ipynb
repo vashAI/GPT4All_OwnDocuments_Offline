{
 "cells": [
  {
   "cell_type": "code",
   "execution_count": 1,
   "id": "1894b922-dc10-483d-ad03-da4840f9691d",
   "metadata": {},
   "outputs": [],
   "source": [
    "from bs4 import BeautifulSoup\n",
    "import requests\n",
    "import json\n",
    "\n",
    "from sentence_transformers import SentenceTransformer\n",
    "import faiss\n",
    "\n",
    "from langchain import PromptTemplate, LLMChain\n",
    "from langchain.callbacks.base import CallbackManager\n",
    "from langchain.callbacks.streaming_stdout import StreamingStdOutCallbackHandler\n",
    "from langchain.llms import GPT4All"
   ]
  },
  {
   "cell_type": "markdown",
   "id": "ffb3d8c8-dc56-4e2b-8f49-dbe51744c78b",
   "metadata": {},
   "source": [
    "### Step-1: Download the HTML Content and find all headers. The headers will be used for the prompts. \n",
    "### Step-2: Convert the Headers and the appropriates HTML content to receive the following structure"
   ]
  },
  {
   "cell_type": "raw",
   "id": "578d8f76-ebe1-4ec8-8088-9c4cbd5285ac",
   "metadata": {},
   "source": [
    "[\n",
    "    {\n",
    "        \"prompt\": \"TITLE\",\n",
    "        \"response\": \"CONTENT\",\n",
    "        \"source\": \"URL\"\n",
    "    },\n",
    "    {\n",
    "        \"prompt\": \"TITLE\",\n",
    "        \"response\": \"CONTENT\",\n",
    "        \"source\": \"URL\"\n",
    "    }, \n",
    "]"
   ]
  },
  {
   "cell_type": "code",
   "execution_count": 2,
   "id": "0da78615-5d7f-43d2-9880-1bc76853571b",
   "metadata": {},
   "outputs": [],
   "source": [
    "urls = ['https://en.wikipedia.org/wiki/Eurovision_Song_Contest_2023',]\n",
    "result = []"
   ]
  },
  {
   "cell_type": "code",
   "execution_count": 3,
   "id": "8b8b2bdd-e47c-487a-a318-529eecf7ba00",
   "metadata": {},
   "outputs": [],
   "source": [
    "# Send HTTP request to the specified URL and save the response from server in a response object called r\n",
    "for url in urls:\n",
    "  \n",
    "    response = requests.get(url)\n",
    "    \n",
    "    # Create a BeautifulSoup object and specify the parser library at the same time\n",
    "    soup = BeautifulSoup(response.text, 'html.parser')\n",
    "\n",
    "    # Find all the h and p tags on the page\n",
    "    headers = soup.find_all(['h1', 'h2', 'h3', 'h4', 'h5', 'h6', 'p'])\n",
    "    \n",
    "    current_prompt = \"\"\n",
    "    current_response = \"\" \n",
    "    \n",
    "    for tag in headers:\n",
    "        if tag.name in ['h1', 'h2', 'h3', 'h4', 'h5', 'h6']:\n",
    "            if current_prompt and current_response:  # ensuring both prompt and response are not empty\n",
    "                result.append({\"prompt\": current_prompt, \"response\": current_response.strip(), \"source\": url})\n",
    "            current_prompt = tag.text\n",
    "            current_response = \"\"\n",
    "        elif tag.name == 'p':\n",
    "            current_response += ' ' + tag.text\n",
    "\n",
    "    # Don't forget the last one\n",
    "    if current_prompt and current_response:\n",
    "        result.append({\"prompt\": current_prompt, \"response\": current_response.strip(), \"source\": url})\n",
    "\n",
    "# Convert the list to JSON\n",
    "json_result = json.dumps(result, indent=4)"
   ]
  },
  {
   "cell_type": "code",
   "execution_count": 6,
   "id": "a7368eaf-606c-422b-abb2-8aeb183c8f5a",
   "metadata": {},
   "outputs": [],
   "source": [
    "#print(json_result)"
   ]
  },
  {
   "cell_type": "markdown",
   "id": "7ef3e508-dbac-4a58-b181-931c2152401b",
   "metadata": {},
   "source": [
    "### Step-3: Load SentenceTransformer and create appropriate embeddings"
   ]
  },
  {
   "cell_type": "code",
   "execution_count": 86,
   "id": "fe5ae156-df4d-4002-a3bf-a2c7bf045e72",
   "metadata": {},
   "outputs": [
    {
     "name": "stdout",
     "output_type": "stream",
     "text": [
      "[2023-05-22 13:12:00,926] {SentenceTransformer.py:66} INFO - Load pretrained SentenceTransformer: all-MiniLM-L6-v2\n",
      "[2023-05-22 13:12:01,084] {SentenceTransformer.py:105} INFO - Use pytorch device: cpu\n"
     ]
    },
    {
     "data": {
      "application/vnd.jupyter.widget-view+json": {
       "model_id": "00ffdf43c2314202942a55f8b18e8432",
       "version_major": 2,
       "version_minor": 0
      },
      "text/plain": [
       "Batches:   0%|          | 0/3 [00:00<?, ?it/s]"
      ]
     },
     "metadata": {},
     "output_type": "display_data"
    }
   ],
   "source": [
    "# Load the sentence transformer model\n",
    "model = SentenceTransformer('all-MiniLM-L6-v2')\n",
    "\n",
    "# Step 3: Convert all the entries into embeddings, based on the prompt.\n",
    "\n",
    "entries = [{'prompt': entry['prompt'], 'response': entry['response']} for entry in result]\n",
    "\n",
    "# Generate the embeddings for the prompts\n",
    "prompt_embeddings = model.encode([entry['prompt'] for entry in entries])"
   ]
  },
  {
   "cell_type": "markdown",
   "id": "9f1855f5-f242-4e57-a0f6-8f135bfe1937",
   "metadata": {},
   "source": [
    "### Step-4: Build the FAISS index based on the embeddings"
   ]
  },
  {
   "cell_type": "code",
   "execution_count": 87,
   "id": "dbc5598e-8512-4687-9ba7-6ce0ffa9aae8",
   "metadata": {},
   "outputs": [],
   "source": [
    "# Step 4: Build the FAISS index, just like before.\n",
    "\n",
    "# Dimension of the embeddings\n",
    "dimension = prompt_embeddings.shape[1]\n",
    "\n",
    "# Configure the FAISS index\n",
    "index = faiss.IndexFlatL2(dimension)\n",
    "\n",
    "# Add vectors to the index\n",
    "index.add(prompt_embeddings)"
   ]
  },
  {
   "cell_type": "markdown",
   "id": "c1d9da27-73e7-48e9-8af6-fdea89f9a3a2",
   "metadata": {},
   "source": [
    "### Step-5: Create a prompt so the user can enter his question. Convert the question into an embedding and perform a search on the index."
   ]
  },
  {
   "cell_type": "code",
   "execution_count": 88,
   "id": "cd0a3eb6-ccfd-4a7e-a3fa-56855535caed",
   "metadata": {},
   "outputs": [],
   "source": [
    "def find_best_matching_prompt(question, index):\n",
    "    # Convert the question into an embedding\n",
    "    question_embedding = model.encode([user_question])\n",
    "\n",
    "    # Perform a search\n",
    "    D, I = index.search(question_embedding, 1)\n",
    "\n",
    "    # Get the best matching entry\n",
    "    best_match_index = I[0][0]\n",
    "    best_matching_entry = entries[best_match_index]\n",
    "    return best_matching_entry"
   ]
  },
  {
   "cell_type": "markdown",
   "id": "06218ca4-1868-418b-9b0f-c24dd30e15b7",
   "metadata": {},
   "source": [
    "### Step-6: Use LLMCHain to create your response based on your question and the appropriate context"
   ]
  },
  {
   "cell_type": "code",
   "execution_count": 90,
   "id": "ab07cb8a-9269-4fd5-bc9b-f9b00ce8fe67",
   "metadata": {},
   "outputs": [],
   "source": [
    "gpt4all_path = './models/gpt4all-converted.bin' \n",
    "\n",
    "# Calback manager for handling the calls with  the model\n",
    "callback_manager = CallbackManager([StreamingStdOutCallbackHandler()])\n",
    "\n",
    "llm = GPT4All(model=gpt4all_path, callback_manager=callback_manager, verbose=True)"
   ]
  },
  {
   "cell_type": "code",
   "execution_count": null,
   "id": "e4f1f42d-cee4-4113-9407-a750bcc4335f",
   "metadata": {},
   "outputs": [],
   "source": [
    "# User question\n",
    "#user_question = \"Which mechanisms does Dataiku DSS provides for python code?\"\n",
    "user_question = input()\n",
    "\n",
    "best_matching_entry = find_best_matching_prompt(user_question, index)"
   ]
  },
  {
   "cell_type": "code",
   "execution_count": 91,
   "id": "d2369c81-5b6a-490f-b455-5966c694c46f",
   "metadata": {},
   "outputs": [
    {
     "name": "stdout",
     "output_type": "stream",
     "text": [
      " Given the following extracted parts of a long document and a question, create a final answer with references (\"SOURCES\"). \n",
      "If you don't know the answer, just say that you don't know. Don't try to make up an answer.\n",
      "ALWAYS return a \"SOURCES\" part in your answer.\n",
      "Respond in English.\n",
      "\n",
      "QUESTION: What was the location of the Eurovision Song Contest in 2023?\n",
      "=========\n",
      "The Eurovision Song Contest 2023 was the 67th edition of the Eurovision Song Contest. It took place in Liverpool, United Kingdom, after Ukraine, winner of the 2022 contest with the song \"Stefania\" by Kalush Orchestra, was unable to meet the demands of hosting the event due to security concerns caused by the Russian invasion of Ukraine. Organised by the European Broadcasting Union (EBU) and host broadcaster the British Broadcasting Corporation (BBC) on behalf of the Public Broadcasting Company of Ukraine (UA: PBC), the contest was held at the Liverpool Arena, and consisted of two semi-finals on 9 and 11 May, and the final on 13 May 2023. The three live shows were presented by British singer Alesha Dixon, British actress Hannah Waddingham and Ukrainian singer Julia Sanina, with Irish television presenter Graham Norton joining for the final.\n",
      " Thirty-seven countries participated in the contest, with Bulgaria, Montenegro and North Macedonia ceasing their participation, mainly due to the economic impact of the 2021–2023 global energy crisis.\n",
      " The winner was Sweden with the song \"Tattoo\", performed by Loreen and written by her with five others. Finland, Israel, Italy and Norway rounded out the top five. Sweden won the combined vote and jury vote, and came second to Finland in the televote. Loreen became the second performer to win the contest twice, after Johnny Logan; it was also the seventh win for Sweden, tying Ireland's record for the most victories in the contest.\n",
      "=========\n",
      "FINAL ANSWER IN ENGLISH: The Eurovision Song Contest 2023 took place on May 13th at Liverpool Arena hosted by BBC and EBU. There were thirty-seven participating countries, which is less than last year's contest due to the global energy crisis of that time period as Bulgaria, Montenegro & North Macedonia had ceased their participation for financial reasons. The winner was Sweden with a song entitled \"Tattoo\" performed by Loreen and written by her together five others. Finland, Israel Italy & Norway came second through fifth respectively in the top 5 of this contest. Sweden won both combined vote as well televote rounding out their win doubled success from last year when Johnny Logan did it for Ireland's second time victories. Given the following extracted parts of a long document and a question, create a final answer with references (\"SOURCES\"). \n",
      "If you don't know the answer, just say that you don't know. Don't try to make up an answer.\n",
      "ALWAYS return a \"SOURCES\" part in your answer.\n",
      "Respond in English.\n",
      "\n",
      "QUESTION: What was the location of the Eurovision Song Contest in 2023?\n",
      "=========\n",
      "The Eurovision Song Contest 2023 was the 67th edition of the Eurovision Song Contest. It took place in Liverpool, United Kingdom, after Ukraine, winner of the 2022 contest with the song \"Stefania\" by Kalush Orchestra, was unable to meet the demands of hosting the event due to security concerns caused by the Russian invasion of Ukraine. Organised by the European Broadcasting Union (EBU) and host broadcaster the British Broadcasting Corporation (BBC) on behalf of the Public Broadcasting Company of Ukraine (UA: PBC), the contest was held at the Liverpool Arena, and consisted of two semi-finals on 9 and 11 May, and the final on 13 May 2023. The three live shows were presented by British singer Alesha Dixon, British actress Hannah Waddingham and Ukrainian singer Julia Sanina, with Irish television presenter Graham Norton joining for the final.\n",
      " Thirty-seven countries participated in the contest, with Bulgaria, Montenegro and North Macedonia ceasing their participation, mainly due to the economic impact of the 2021–2023 global energy crisis.\n",
      " The winner was Sweden with the song \"Tattoo\", performed by Loreen and written by her with five others. Finland, Israel, Italy and Norway rounded out the top five. Sweden won the combined vote and jury vote, and came second to Finland in the televote. Loreen became the second performer to win the contest twice, after Johnny Logan; it was also the seventh win for Sweden, tying Ireland's record for the most victories in the contest.\n",
      "=========\n",
      "FINAL ANSWER IN ENGLISH: The Eurovision Song Contest 2023 took place on May 13th at Liverpool Arena hosted by BBC and EBU. There were thirty-seven participating countries, which is less than last year's contest due to the global energy crisis of that time period as Bulgaria, Montenegro & North Macedonia had ceased their participation for financial reasons. The winner was Sweden with a song entitled \"Tattoo\" performed by Loreen and written by her together five others. Finland, Israel Italy & Norway came second through fifth respectively in the top 5 of this contest. Sweden won both combined vote as well televote rounding out their win doubled success from last year when Johnny Logan did it for Ireland's second time victories.\n"
     ]
    }
   ],
   "source": [
    "template = \"\"\"Given the following extracted parts of a long document and a question, create a final answer with references (\"SOURCES\"). \n",
    "If you don't know the answer, just say that you don't know. Don't try to make up an answer.\n",
    "ALWAYS return a \"SOURCES\" part in your answer.\n",
    "Respond in English.\n",
    "\n",
    "QUESTION: {question}\n",
    "=========\n",
    "{context}\n",
    "=========\n",
    "FINAL ANSWER IN ENGLISH:\"\"\"\n",
    "\n",
    "# Creating the context\n",
    "context = best_matching_entry['response']\n",
    "\n",
    "PROMPT = PromptTemplate(template=template, input_variables=[\"context\", \"question\"]).partial(context=context)\n",
    "llm_chain = LLMChain(prompt=PROMPT, llm=llm)\n",
    "# Print the result\n",
    "print(llm_chain.run(user_question))"
   ]
  }
 ],
 "metadata": {
  "kernelspec": {
   "display_name": "Python 3",
   "language": "python",
   "name": "python3"
  },
  "language_info": {
   "codemirror_mode": {
    "name": "ipython",
    "version": 3
   },
   "file_extension": ".py",
   "mimetype": "text/x-python",
   "name": "python",
   "nbconvert_exporter": "python",
   "pygments_lexer": "ipython3",
   "version": "3.8.8"
  }
 },
 "nbformat": 4,
 "nbformat_minor": 5
}
